{
 "cells": [
  {
   "cell_type": "code",
   "execution_count": 1,
   "id": "a6f15123-6e2e-4c2b-99cc-c2b3a05b4ee6",
   "metadata": {},
   "outputs": [],
   "source": [
    "import tkinter as tk\n",
    "import pandas as pd\n",
    "import warnings\n",
    "warnings.filterwarnings(action='ignore')"
   ]
  },
  {
   "cell_type": "code",
   "execution_count": 2,
   "id": "0b99280e-96c3-4b6f-b3d4-c6ed4bdca65b",
   "metadata": {},
   "outputs": [],
   "source": [
    "\"\"\"Backend\"\"\"\n",
    "df = pd.read_csv(\"ml-100k/u.data\",sep='\\t',\n",
    "                 names=['user_id','item_id','rating','ts'])\n",
    "\n",
    "cols = \"item_id|title| release date | video release date |\\\n",
    "              IMDb URL | unknown | Action | Adventure | Animation |\\\n",
    "              Children's | Comedy | Crime | Documentary | Drama | Fantasy |\\\n",
    "              Film-Noir | Horror | Musical | Mystery | Romance | Sci-Fi |\\\n",
    "              Thriller | War | Western |\"\n",
    "movies = pd.read_csv('ml-100k/u.item',sep='|',names=cols.split('|'))\n",
    "data = pd.merge(df.drop('ts',axis=1),movies[['item_id','title']],on='item_id')\n",
    "\n",
    "avg_rates = data.groupby('title')['rating'].mean()\n",
    "rate_count = data.groupby('title')['rating'].count()\n",
    "\n",
    "df_pivot = data.pivot_table(index='user_id',columns='title',\n",
    "                           values='rating')\n",
    "\"\"\"Backend\"\"\"\n",
    "\n",
    "app = tk.Tk()\n",
    "app.geometry('600x400')\n",
    "app.title('Recommendation Engine')\n",
    "\n",
    "\n",
    "list_box = tk.Listbox(app, height=20,width=30,activestyle='dotbox', fg='black')\n",
    "list_box.place(x=20,y=20)\n",
    "for i,t in enumerate(data['title'].unique()):\n",
    "    list_box.insert(i+1,t)\n",
    "\n",
    "def recommend():\n",
    "    inp = list_box.get(list_box.curselection())\n",
    "    sim_inp = df_pivot.corrwith(df_pivot[inp])\n",
    "    sim_df = pd.DataFrame(sim_inp,columns=['Correlation'])\n",
    "    sim_df['Count'] = rate_count    \n",
    "    sim_df['avg_rate'] = avg_rates\n",
    "    recom = sim_df[(sim_df['Count'] > 100)].sort_values(by='Correlation',ascending=False).head(10)\n",
    "    recom.drop(inp,axis=0,inplace=True,errors='ignore')\n",
    "    recommended = recom.index[:3]    \n",
    "    result1.set(recommended[0])\n",
    "    result2.set(recommended[1])\n",
    "    result3.set(recommended[2])\n",
    "   \n",
    "    \n",
    "tk.Button(app,text='Show Recommendation',command=recommend).place(x=250,y=30)\n",
    "\n",
    "result1 = tk.Variable(app)\n",
    "result1.set('Result 1')\n",
    "tk.Label(app,textvariable=result1).place(x=250,y=100)\n",
    "\n",
    "result2 = tk.Variable(app)\n",
    "result2.set('Result 2')\n",
    "tk.Label(app,textvariable=result2).place(x=250,y=130)\n",
    "\n",
    "result3 = tk.Variable(app)\n",
    "result3.set('Result 3')\n",
    "tk.Label(app,textvariable=result3).place(x=250,y=160)\n",
    "\n",
    "app.mainloop()"
   ]
  },
  {
   "cell_type": "code",
   "execution_count": null,
   "id": "8b727a93-5911-4816-90ca-0d20ab5ac93c",
   "metadata": {},
   "outputs": [],
   "source": []
  }
 ],
 "metadata": {
  "kernelspec": {
   "display_name": "Python 3",
   "language": "python",
   "name": "python3"
  },
  "language_info": {
   "codemirror_mode": {
    "name": "ipython",
    "version": 3
   },
   "file_extension": ".py",
   "mimetype": "text/x-python",
   "name": "python",
   "nbconvert_exporter": "python",
   "pygments_lexer": "ipython3",
   "version": "3.8.10"
  }
 },
 "nbformat": 4,
 "nbformat_minor": 5
}
