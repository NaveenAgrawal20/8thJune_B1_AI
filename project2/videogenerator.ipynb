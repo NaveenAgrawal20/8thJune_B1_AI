{
 "cells": [
  {
   "cell_type": "code",
   "execution_count": 1,
   "id": "9ce3ab56-6f33-4883-b3cb-7901d9ab1a16",
   "metadata": {},
   "outputs": [],
   "source": [
    "import os\n",
    "import cv2"
   ]
  },
  {
   "cell_type": "code",
   "execution_count": 2,
   "id": "af4583b1-0fdc-4321-b77b-617ff1747060",
   "metadata": {},
   "outputs": [
    {
     "data": {
      "text/plain": [
       "['generated/generated_images_0000.png',\n",
       " 'generated/generated_images_0001.png',\n",
       " 'generated/generated_images_0002.png',\n",
       " 'generated/generated_images_0003.png',\n",
       " 'generated/generated_images_0004.png']"
      ]
     },
     "execution_count": 2,
     "metadata": {},
     "output_type": "execute_result"
    }
   ],
   "source": [
    "vid_name = 'dcgan_traininig.avi'\n",
    "\n",
    "files = [os.path.join('generated/',f) for f in os.listdir('generated/')[1:] ]\n",
    "files[:5]"
   ]
  },
  {
   "cell_type": "code",
   "execution_count": 3,
   "id": "325fc7a4-7344-4165-9fb3-301f767400dc",
   "metadata": {},
   "outputs": [
    {
     "data": {
      "text/plain": [
       "<VideoWriter 000001D127ECA670>"
      ]
     },
     "execution_count": 3,
     "metadata": {},
     "output_type": "execute_result"
    }
   ],
   "source": [
    "vid = cv2.VideoWriter(vid_name,cv2.VideoWriter_fourcc(*'MP4V'),1.0,(530,530))\n",
    "vid"
   ]
  },
  {
   "cell_type": "code",
   "execution_count": 4,
   "id": "d1931542-1b15-4dfc-a0a3-fc19e28d5aa2",
   "metadata": {},
   "outputs": [],
   "source": [
    "[vid.write(cv2.imread(file)) for file in files ]\n",
    "vid.release()"
   ]
  }
 ],
 "metadata": {
  "kernelspec": {
   "display_name": "Python 3",
   "language": "python",
   "name": "python3"
  },
  "language_info": {
   "codemirror_mode": {
    "name": "ipython",
    "version": 3
   },
   "file_extension": ".py",
   "mimetype": "text/x-python",
   "name": "python",
   "nbconvert_exporter": "python",
   "pygments_lexer": "ipython3",
   "version": "3.8.10"
  }
 },
 "nbformat": 4,
 "nbformat_minor": 5
}
